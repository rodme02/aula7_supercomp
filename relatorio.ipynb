{
 "cells": [
  {
   "cell_type": "code",
   "execution_count": 7,
   "metadata": {},
   "outputs": [],
   "source": [
    "import matplotlib.pyplot as plt\n",
    "import pandas as pd\n",
    "import numpy as np"
   ]
  },
  {
   "cell_type": "markdown",
   "metadata": {},
   "source": [
    "## 1. Tempo de Execução\n",
    "- **Busca Exaustiva:** \n",
    "  - Os tempos de execução são significativamente mais longos, entre 4.161.400 ns e 4.266.500 ns. É importante notar que foi aplicada a técnica de memoização para aumentar a eficiência da busca exaustiva, tornando-a mais rápida do que seria sem essa otimização.\n",
    "- **Heurísticas (Embaralhar e Preencher, Seleção Aleatória):**\n",
    "  - Ambas as heurísticas apresentam tempos de execução muito mais curtos, geralmente de 300 ns a 9.100 ns. Essa diferença reflete a complexidade computacional reduzida dessas abordagens em comparação com a busca exaustiva.\n",
    "\n",
    "## 2. Qualidade das Soluções (Valores e Pesos)\n",
    "- **Busca Exaustiva:**\n",
    "  - Consistentemente atinge o valor máximo possível, já que explora todas as combinações possíveis.\n",
    "- **Embaralhar e Preencher:**\n",
    "  - Em alguns casos, alcança o valor máximo, igualando a busca exaustiva, indicando alta eficácia em certas configurações.\n",
    "  - Em outros casos, os valores são menores, o que reflete a natureza subótima e a dependência da ordem de processamento dos itens.\n",
    "- **Seleção Aleatória:**\n",
    "  - Consistentemente produz valores mais baixos comparados à busca exaustiva, devido à sua natureza probabilística que não garante uma escolha que maximize o valor dentro da capacidade permitida.\n",
    "\n",
    "## 3. Consistência\n",
    "- **Busca Exaustiva:**\n",
    "  - Produz resultados consistentes e previsíveis.\n",
    "- **Heurísticas:**\n",
    "  - **Embaralhar e Preencher:** Mostra alguma consistência, especialmente onde o problema permite uma solução ideal acessível heuristicamente.\n",
    "  - **Seleção Aleatória:** Apresenta grande variabilidade nos resultados devido à sua dependência de probabilidades aleatórias.\n",
    "\n",
    "## Conclusão\n",
    "A busca exaustiva, apesar de garantir a obtenção do melhor resultado possível, vem com um custo computacional significativamente mais alto. As heurísticas oferecem tempos de execução muito mais rápidos, mas com uma troca pela qualidade da solução, que pode variar significativamente. A escolha entre essas abordagens depende das necessidades específicas do problema, como a aceitabilidade de soluções subótimas versus a necessidade de otimização rigorosa."
   ]
  }
 ],
 "metadata": {
  "kernelspec": {
   "display_name": "Python 3",
   "language": "python",
   "name": "python3"
  },
  "language_info": {
   "codemirror_mode": {
    "name": "ipython",
    "version": 3
   },
   "file_extension": ".py",
   "mimetype": "text/x-python",
   "name": "python",
   "nbconvert_exporter": "python",
   "pygments_lexer": "ipython3",
   "version": "3.12.4"
  }
 },
 "nbformat": 4,
 "nbformat_minor": 2
}
